{
 "cells": [
  {
   "cell_type": "markdown",
   "metadata": {},
   "source": [
    "topic modeling: statistical modeling for discovering the abstract \"topics\" that occur in a collection of documents"
   ]
  },
  {
   "cell_type": "markdown",
   "metadata": {},
   "source": [
    "LDA(Latent Dirichlet Allocation): an example of topic model, used to classify text to a particular topic. It builds a topic per document model and words per topic model, modeled as Dirichlet distributions."
   ]
  },
  {
   "cell_type": "markdown",
   "metadata": {},
   "source": [
    "In this project, I will practice applying LDA to a set of documents and split them into topics."
   ]
  },
  {
   "cell_type": "markdown",
   "metadata": {},
   "source": [
    "**Agenda**:\n",
    "* the data\n",
    "* data pre-processing\n",
    "* bag of words on the data set\n",
    "* TF-IDF\n",
    "* running LDA using bag-of-words\n",
    "* running LDA using TF-IDF\n",
    "* performance evaluation by classifying sample document using LDA bag of words model\n",
    "* performance evaluation by classifying sample document using LDA TF-IDF model\n",
    "* testing model on unseen document"
   ]
  },
  {
   "cell_type": "markdown",
   "metadata": {},
   "source": [
    "**The Data**"
   ]
  },
  {
   "cell_type": "markdown",
   "metadata": {},
   "source": [
    "The dataset contains over one millioin news headlines published over 15 years."
   ]
  },
  {
   "cell_type": "code",
   "execution_count": 5,
   "metadata": {},
   "outputs": [],
   "source": [
    "import pandas as pd\n",
    "\n",
    "data = pd.read_csv('abcnews-date-text.csv', error_bad_lines=False);\n",
    "data_text = data[['headline_text']]\n",
    "data_text['index'] = data_text.index\n",
    "documents = data_text"
   ]
  },
  {
   "cell_type": "code",
   "execution_count": 11,
   "metadata": {},
   "outputs": [
    {
     "data": {
      "text/plain": [
       "'aba decides against community broadcasting licence'"
      ]
     },
     "execution_count": 11,
     "metadata": {},
     "output_type": "execute_result"
    }
   ],
   "source": [
    "data_text['headline_text'][0]"
   ]
  },
  {
   "cell_type": "code",
   "execution_count": 7,
   "metadata": {},
   "outputs": [
    {
     "data": {
      "text/plain": [
       "1103663"
      ]
     },
     "execution_count": 7,
     "metadata": {},
     "output_type": "execute_result"
    }
   ],
   "source": [
    "len(documents)"
   ]
  },
  {
   "cell_type": "markdown",
   "metadata": {},
   "source": [
    "**Data Pre-processing**"
   ]
  },
  {
   "cell_type": "markdown",
   "metadata": {},
   "source": [
    "steps:\n",
    "* tokenization: split text into sentences and sentences into words; lowercase words; remove punctuation\n",
    "* remove words with fewer than 3 char\n",
    "* remove stopwords\n",
    "* lemmatize words: words in third person are changed to first person; verbs in past and future tenses are changed into present\n",
    "* stem words: words are reduced to their root form"
   ]
  },
  {
   "cell_type": "code",
   "execution_count": 19,
   "metadata": {},
   "outputs": [
    {
     "name": "stdout",
     "output_type": "stream",
     "text": [
      "[nltk_data] Downloading package wordnet to /Users/ruihu/nltk_data...\n",
      "[nltk_data]   Package wordnet is already up-to-date!\n"
     ]
    },
    {
     "data": {
      "text/plain": [
       "True"
      ]
     },
     "execution_count": 19,
     "metadata": {},
     "output_type": "execute_result"
    }
   ],
   "source": [
    "import gensim\n",
    "from gensim.utils import simple_preprocess\n",
    "from gensim.parsing.preprocessing import STOPWORDS\n",
    "from nltk.stem import WordNetLemmatizer, SnowballStemmer\n",
    "from nltk.stem.porter import *\n",
    "import numpy as np\n",
    "np.random.seed(2018)\n",
    "import nltk\n",
    "nltk.download('wordnet')"
   ]
  },
  {
   "cell_type": "markdown",
   "metadata": {},
   "source": [
    "perform lemmatize and stem preprocessing steps on text"
   ]
  },
  {
   "cell_type": "code",
   "execution_count": 21,
   "metadata": {},
   "outputs": [],
   "source": [
    "stemmer = PorterStemmer()\n",
    "def lemmatize_stemming(text):\n",
    "    return stemmer.stem(WordNetLemmatizer().lemmatize(text, pos='v'))"
   ]
  },
  {
   "cell_type": "markdown",
   "metadata": {},
   "source": [
    "remove stopwords and set threshold for char length"
   ]
  },
  {
   "cell_type": "code",
   "execution_count": 16,
   "metadata": {},
   "outputs": [],
   "source": [
    "def preprocess(text):\n",
    "    result = []\n",
    "    for token in gensim.utils.simple_preprocess(text):\n",
    "        if token not in gensim.parsing.preprocessing.STOPWORDS and len(token) > 3:\n",
    "            result.append(lemmatize_stemming(token))\n",
    "    return result"
   ]
  },
  {
   "cell_type": "markdown",
   "metadata": {},
   "source": [
    "select a document to preview after preprocessing"
   ]
  },
  {
   "cell_type": "code",
   "execution_count": 22,
   "metadata": {},
   "outputs": [
    {
     "name": "stdout",
     "output_type": "stream",
     "text": [
      "original document: \n",
      "['rain', 'helps', 'dampen', 'bushfires']\n",
      "\n",
      "\n",
      " tokenized and lemmatized document: \n",
      "['rain', 'help', 'dampen', 'bushfir']\n"
     ]
    }
   ],
   "source": [
    "doc_sample = documents[documents['index'] == 4310].values[0][0]\n",
    "\n",
    "print('original document: ')\n",
    "words = []\n",
    "for word in doc_sample.split(' '):\n",
    "    words.append(word)\n",
    "print(words)\n",
    "print('\\n\\n tokenized and lemmatized document: ')\n",
    "print(preprocess(doc_sample))"
   ]
  },
  {
   "cell_type": "markdown",
   "metadata": {},
   "source": [
    "preprocess the headlines, save results as 'processed_docs'"
   ]
  },
  {
   "cell_type": "code",
   "execution_count": 24,
   "metadata": {},
   "outputs": [
    {
     "data": {
      "text/plain": [
       "0               [decid, commun, broadcast, licenc]\n",
       "1                               [wit, awar, defam]\n",
       "2           [call, infrastructur, protect, summit]\n",
       "3                      [staff, aust, strike, rise]\n",
       "4             [strike, affect, australian, travel]\n",
       "5               [ambiti, olsson, win, tripl, jump]\n",
       "6           [antic, delight, record, break, barca]\n",
       "7    [aussi, qualifi, stosur, wast, memphi, match]\n",
       "8            [aust, address, secur, council, iraq]\n",
       "9                         [australia, lock, timet]\n",
       "Name: headline_text, dtype: object"
      ]
     },
     "execution_count": 24,
     "metadata": {},
     "output_type": "execute_result"
    }
   ],
   "source": [
    "processed_docs = documents['headline_text'].map(preprocess)\n",
    "processed_docs[:10]"
   ]
  },
  {
   "cell_type": "markdown",
   "metadata": {},
   "source": [
    "**Bag of words on the datasets**"
   ]
  },
  {
   "cell_type": "markdown",
   "metadata": {},
   "source": [
    "create a dictionary containing the number of times a word appears in the training set"
   ]
  },
  {
   "cell_type": "code",
   "execution_count": 28,
   "metadata": {},
   "outputs": [
    {
     "name": "stdout",
     "output_type": "stream",
     "text": [
      "0 broadcast\n",
      "1 commun\n",
      "2 decid\n",
      "3 licenc\n",
      "4 awar\n",
      "5 defam\n",
      "6 wit\n",
      "7 call\n",
      "8 infrastructur\n",
      "9 protect\n",
      "10 summit\n"
     ]
    },
    {
     "data": {
      "text/plain": [
       "'overtim'"
      ]
     },
     "execution_count": 28,
     "metadata": {},
     "output_type": "execute_result"
    }
   ],
   "source": [
    "dictionary = gensim.corpora.Dictionary(processed_docs)\n",
    "count = 0\n",
    "for k, v in dictionary.iteritems():\n",
    "    print(k, v)\n",
    "    count += 1\n",
    "    if count > 10:\n",
    "        break"
   ]
  },
  {
   "cell_type": "markdown",
   "metadata": {},
   "source": [
    "filter out tokens that appear in:\n",
    "* less than 15 documents\n",
    "* or more than 50% of the total corpus size\n",
    "* keep the first 100000 most frequent tokens"
   ]
  },
  {
   "cell_type": "code",
   "execution_count": 26,
   "metadata": {},
   "outputs": [],
   "source": [
    "dictionary.filter_extremes(no_below=15, no_above=0.5, keep_n=100000)"
   ]
  },
  {
   "cell_type": "markdown",
   "metadata": {},
   "source": [
    "gensim doc2bow: for each document we create a dictionary reporting how many words and how many times those words appear, save this to 'bow_corpus'"
   ]
  },
  {
   "cell_type": "code",
   "execution_count": 62,
   "metadata": {},
   "outputs": [
    {
     "data": {
      "text/plain": [
       "[(77, 1), (116, 1), (495, 1), (4452, 1)]"
      ]
     },
     "execution_count": 62,
     "metadata": {},
     "output_type": "execute_result"
    }
   ],
   "source": [
    "bow_corpus = [dictionary.doc2bow(doc) for doc in processed_docs]\n",
    "bow_corpus[4310]\n",
    "#word id as key, word freq as value"
   ]
  },
  {
   "cell_type": "markdown",
   "metadata": {},
   "source": [
    "preview bag of words for sample processed_docs"
   ]
  },
  {
   "cell_type": "code",
   "execution_count": 61,
   "metadata": {},
   "outputs": [
    {
     "name": "stdout",
     "output_type": "stream",
     "text": [
      "word 11 (\"aust\") appears in 1 time\n",
      "word 33 (\"wast\") appears in 1 time\n",
      "word 34 (\"address\") appears in 1 time\n",
      "word 35 (\"council\") appears in 1 time\n",
      "word 36 (\"iraq\") appears in 1 time\n"
     ]
    }
   ],
   "source": [
    "bow_doc_4310 = bow_corpus[8]\n",
    "\n",
    "for i in range(len(bow_doc_4310)):\n",
    "    print(\"word {} (\\\"{}\\\") appears in {} time\".format(bow_doc_4310[i][0],\n",
    "                                                      dictionary[bow_doc_4310[i][0]],\n",
    "                                                      bow_doc_4310[i][1]))"
   ]
  },
  {
   "cell_type": "markdown",
   "metadata": {},
   "source": [
    "**TF-IDF**"
   ]
  },
  {
   "cell_type": "markdown",
   "metadata": {},
   "source": [
    "tf-idf: term frequency-inverse document frequency"
   ]
  },
  {
   "cell_type": "markdown",
   "metadata": {},
   "source": [
    "create tf-idf model object using models"
   ]
  },
  {
   "cell_type": "code",
   "execution_count": 63,
   "metadata": {},
   "outputs": [],
   "source": [
    "from gensim import corpora, models\n",
    "tfidf = models.TfidfModel(bow_corpus)\n",
    "corpus_tfidf = tfidf[bow_corpus]"
   ]
  },
  {
   "cell_type": "markdown",
   "metadata": {},
   "source": [
    "preview TF-IDF scores for sample document"
   ]
  },
  {
   "cell_type": "code",
   "execution_count": 64,
   "metadata": {},
   "outputs": [
    {
     "name": "stdout",
     "output_type": "stream",
     "text": [
      "[(0, 0.5903603121911333),\n",
      " (1, 0.3852450692300274),\n",
      " (2, 0.4974556050119205),\n",
      " (3, 0.505567858418396)]\n"
     ]
    }
   ],
   "source": [
    "from pprint import pprint\n",
    "for doc in corpus_tfidf:\n",
    "    pprint(doc)\n",
    "    break"
   ]
  },
  {
   "cell_type": "markdown",
   "metadata": {},
   "source": [
    "**Running LDA using Bag of Words** "
   ]
  },
  {
   "cell_type": "markdown",
   "metadata": {},
   "source": [
    "reference: http://blog.echen.me/2011/08/22/introduction-to-latent-dirichlet-allocation/"
   ]
  },
  {
   "cell_type": "code",
   "execution_count": 65,
   "metadata": {},
   "outputs": [],
   "source": [
    "lda_model = gensim.models.LdaMulticore(bow_corpus, num_topics=10, id2word=dictionary, passes=2, workers=2)"
   ]
  },
  {
   "cell_type": "markdown",
   "metadata": {},
   "source": [
    "id2word: mapping from word ids to words. it is used to determine the vocabulary size, as well as for debugging and topic printing"
   ]
  },
  {
   "cell_type": "markdown",
   "metadata": {},
   "source": [
    "passes: number of passes through the corpus during training"
   ]
  },
  {
   "cell_type": "markdown",
   "metadata": {},
   "source": [
    "for each topic, we will explore the words occuring in that topic and its relative weight."
   ]
  },
  {
   "cell_type": "code",
   "execution_count": 66,
   "metadata": {},
   "outputs": [
    {
     "name": "stdout",
     "output_type": "stream",
     "text": [
      "topic: 0 \n",
      "words: 0.024*\"south\" + 0.019*\"australia\" + 0.019*\"test\" + 0.016*\"tasmania\" + 0.014*\"chang\" + 0.014*\"turnbul\" + 0.013*\"break\" + 0.010*\"john\" + 0.009*\"say\" + 0.009*\"storm\"\n",
      "topic: 1 \n",
      "words: 0.014*\"brisban\" + 0.014*\"council\" + 0.013*\"final\" + 0.012*\"need\" + 0.010*\"review\" + 0.009*\"say\" + 0.009*\"premier\" + 0.008*\"law\" + 0.008*\"defend\" + 0.008*\"parliament\"\n",
      "topic: 2 \n",
      "words: 0.031*\"trump\" + 0.018*\"world\" + 0.018*\"open\" + 0.017*\"market\" + 0.016*\"nation\" + 0.015*\"australian\" + 0.013*\"rise\" + 0.012*\"record\" + 0.012*\"price\" + 0.012*\"share\"\n",
      "topic: 3 \n",
      "words: 0.032*\"govern\" + 0.020*\"school\" + 0.020*\"coast\" + 0.014*\"high\" + 0.013*\"north\" + 0.013*\"gold\" + 0.013*\"children\" + 0.012*\"student\" + 0.012*\"protest\" + 0.010*\"west\"\n",
      "topic: 4 \n",
      "words: 0.030*\"sydney\" + 0.023*\"polic\" + 0.022*\"adelaid\" + 0.016*\"interview\" + 0.015*\"shoot\" + 0.014*\"home\" + 0.013*\"woman\" + 0.013*\"melbourn\" + 0.013*\"die\" + 0.013*\"death\"\n",
      "topic: 5 \n",
      "words: 0.021*\"queensland\" + 0.013*\"live\" + 0.013*\"fund\" + 0.013*\"health\" + 0.012*\"rural\" + 0.010*\"servic\" + 0.009*\"plan\" + 0.009*\"worker\" + 0.009*\"busi\" + 0.008*\"industri\"\n",
      "topic: 6 \n",
      "words: 0.023*\"kill\" + 0.019*\"countri\" + 0.017*\"china\" + 0.016*\"hour\" + 0.012*\"road\" + 0.010*\"week\" + 0.010*\"attack\" + 0.010*\"korea\" + 0.010*\"drum\" + 0.009*\"north\"\n",
      "topic: 7 \n",
      "words: 0.026*\"elect\" + 0.018*\"say\" + 0.014*\"donald\" + 0.013*\"labor\" + 0.010*\"bank\" + 0.010*\"tasmanian\" + 0.010*\"polit\" + 0.009*\"vote\" + 0.009*\"senat\" + 0.009*\"leader\"\n",
      "topic: 8 \n",
      "words: 0.017*\"crash\" + 0.016*\"miss\" + 0.013*\"peopl\" + 0.013*\"island\" + 0.011*\"driver\" + 0.011*\"polic\" + 0.010*\"forc\" + 0.010*\"want\" + 0.010*\"royal\" + 0.010*\"search\"\n",
      "topic: 9 \n",
      "words: 0.028*\"court\" + 0.021*\"murder\" + 0.021*\"charg\" + 0.018*\"face\" + 0.017*\"polic\" + 0.015*\"jail\" + 0.014*\"accus\" + 0.013*\"drug\" + 0.013*\"child\" + 0.012*\"arrest\"\n"
     ]
    }
   ],
   "source": [
    "for idx, topic in lda_model.print_topics(-1):\n",
    "    print('topic: {} \\nwords: {}'.format(idx, topic))"
   ]
  },
  {
   "cell_type": "markdown",
   "metadata": {},
   "source": [
    "**Running LDA using TF-IDF**"
   ]
  },
  {
   "cell_type": "code",
   "execution_count": 71,
   "metadata": {},
   "outputs": [],
   "source": [
    "lda_model_tfidf = gensim.models.LdaMulticore(corpus_tfidf, num_topics=10, id2word=dictionary, passes=2, workers=4)"
   ]
  },
  {
   "cell_type": "code",
   "execution_count": 68,
   "metadata": {},
   "outputs": [
    {
     "name": "stdout",
     "output_type": "stream",
     "text": [
      "topic: 0 \n",
      "word: 0.020*\"trump\" + 0.008*\"grandstand\" + 0.006*\"abbott\" + 0.005*\"toni\" + 0.005*\"islam\" + 0.005*\"say\" + 0.005*\"raid\" + 0.005*\"syria\" + 0.005*\"suicid\" + 0.005*\"bomb\"\n",
      "topic: 1 \n",
      "word: 0.012*\"polic\" + 0.009*\"woman\" + 0.009*\"charg\" + 0.008*\"murder\" + 0.008*\"death\" + 0.007*\"search\" + 0.007*\"miss\" + 0.006*\"stab\" + 0.006*\"court\" + 0.005*\"septemb\"\n",
      "topic: 2 \n",
      "word: 0.014*\"queensland\" + 0.007*\"dollar\" + 0.006*\"monday\" + 0.006*\"august\" + 0.006*\"thursday\" + 0.006*\"sexual\" + 0.005*\"malcolm\" + 0.005*\"quiz\" + 0.004*\"western\" + 0.004*\"onlin\"\n",
      "topic: 3 \n",
      "word: 0.007*\"weather\" + 0.005*\"result\" + 0.005*\"leagu\" + 0.005*\"wild\" + 0.004*\"david\" + 0.004*\"blog\" + 0.004*\"live\" + 0.004*\"origin\" + 0.004*\"rugbi\" + 0.004*\"breakfast\"\n",
      "topic: 4 \n",
      "word: 0.020*\"countri\" + 0.018*\"hour\" + 0.011*\"market\" + 0.008*\"donald\" + 0.008*\"share\" + 0.007*\"price\" + 0.006*\"energi\" + 0.005*\"australian\" + 0.005*\"dairi\" + 0.005*\"cattl\"\n",
      "topic: 5 \n",
      "word: 0.015*\"interview\" + 0.013*\"crash\" + 0.007*\"kill\" + 0.006*\"asylum\" + 0.005*\"fatal\" + 0.005*\"decemb\" + 0.005*\"seeker\" + 0.005*\"truck\" + 0.005*\"capit\" + 0.005*\"die\"\n",
      "topic: 6 \n",
      "word: 0.010*\"rural\" + 0.008*\"news\" + 0.006*\"nation\" + 0.006*\"chang\" + 0.006*\"govern\" + 0.006*\"busi\" + 0.005*\"plan\" + 0.005*\"council\" + 0.005*\"climat\" + 0.004*\"michael\"\n",
      "topic: 7 \n",
      "word: 0.011*\"drum\" + 0.007*\"guilti\" + 0.007*\"charg\" + 0.007*\"plead\" + 0.006*\"wednesday\" + 0.006*\"court\" + 0.006*\"peter\" + 0.005*\"murder\" + 0.005*\"april\" + 0.005*\"scott\"\n",
      "topic: 8 \n",
      "word: 0.010*\"podcast\" + 0.008*\"turnbul\" + 0.008*\"health\" + 0.007*\"sport\" + 0.006*\"christma\" + 0.006*\"violenc\" + 0.006*\"juli\" + 0.006*\"octob\" + 0.005*\"fund\" + 0.005*\"mental\"\n",
      "topic: 9 \n",
      "word: 0.014*\"south\" + 0.010*\"coast\" + 0.009*\"north\" + 0.008*\"australia\" + 0.006*\"marriag\" + 0.006*\"west\" + 0.006*\"korea\" + 0.005*\"tuesday\" + 0.005*\"east\" + 0.005*\"final\"\n"
     ]
    }
   ],
   "source": [
    "for idx, topic in lda_model_tfidf.print_topics(-1):\n",
    "    print('topic: {} \\nword: {}'.format(idx, topic))"
   ]
  },
  {
   "cell_type": "markdown",
   "metadata": {},
   "source": [
    "**Performance evaluation by classifying sample document using LDA bag of words model**"
   ]
  },
  {
   "cell_type": "markdown",
   "metadata": {},
   "source": [
    "check where our sample document would be classified"
   ]
  },
  {
   "cell_type": "code",
   "execution_count": 69,
   "metadata": {},
   "outputs": [
    {
     "data": {
      "text/plain": [
       "['rain', 'help', 'dampen', 'bushfir']"
      ]
     },
     "execution_count": 69,
     "metadata": {},
     "output_type": "execute_result"
    }
   ],
   "source": [
    "processed_docs[4310]"
   ]
  },
  {
   "cell_type": "code",
   "execution_count": 70,
   "metadata": {},
   "outputs": [
    {
     "name": "stdout",
     "output_type": "stream",
     "text": [
      "\n",
      "score: 0.45864659547805786\t \n",
      "topic: 0.024*\"south\" + 0.019*\"australia\" + 0.019*\"test\" + 0.016*\"tasmania\" + 0.014*\"chang\" + 0.014*\"turnbul\" + 0.013*\"break\" + 0.010*\"john\" + 0.009*\"say\" + 0.009*\"storm\"\n",
      "\n",
      "score: 0.381317675113678\t \n",
      "topic: 0.017*\"crash\" + 0.016*\"miss\" + 0.013*\"peopl\" + 0.013*\"island\" + 0.011*\"driver\" + 0.011*\"polic\" + 0.010*\"forc\" + 0.010*\"want\" + 0.010*\"royal\" + 0.010*\"search\"\n",
      "\n",
      "score: 0.020012065768241882\t \n",
      "topic: 0.031*\"trump\" + 0.018*\"world\" + 0.018*\"open\" + 0.017*\"market\" + 0.016*\"nation\" + 0.015*\"australian\" + 0.013*\"rise\" + 0.012*\"record\" + 0.012*\"price\" + 0.012*\"share\"\n",
      "\n",
      "score: 0.0200088769197464\t \n",
      "topic: 0.023*\"kill\" + 0.019*\"countri\" + 0.017*\"china\" + 0.016*\"hour\" + 0.012*\"road\" + 0.010*\"week\" + 0.010*\"attack\" + 0.010*\"korea\" + 0.010*\"drum\" + 0.009*\"north\"\n",
      "\n",
      "score: 0.02000686153769493\t \n",
      "topic: 0.021*\"queensland\" + 0.013*\"live\" + 0.013*\"fund\" + 0.013*\"health\" + 0.012*\"rural\" + 0.010*\"servic\" + 0.009*\"plan\" + 0.009*\"worker\" + 0.009*\"busi\" + 0.008*\"industri\"\n",
      "\n",
      "score: 0.020006034523248672\t \n",
      "topic: 0.032*\"govern\" + 0.020*\"school\" + 0.020*\"coast\" + 0.014*\"high\" + 0.013*\"north\" + 0.013*\"gold\" + 0.013*\"children\" + 0.012*\"student\" + 0.012*\"protest\" + 0.010*\"west\"\n",
      "\n",
      "score: 0.020001348108053207\t \n",
      "topic: 0.028*\"court\" + 0.021*\"murder\" + 0.021*\"charg\" + 0.018*\"face\" + 0.017*\"polic\" + 0.015*\"jail\" + 0.014*\"accus\" + 0.013*\"drug\" + 0.013*\"child\" + 0.012*\"arrest\"\n",
      "\n",
      "score: 0.02000054344534874\t \n",
      "topic: 0.030*\"sydney\" + 0.023*\"polic\" + 0.022*\"adelaid\" + 0.016*\"interview\" + 0.015*\"shoot\" + 0.014*\"home\" + 0.013*\"woman\" + 0.013*\"melbourn\" + 0.013*\"die\" + 0.013*\"death\"\n",
      "\n",
      "score: 0.019999999552965164\t \n",
      "topic: 0.014*\"brisban\" + 0.014*\"council\" + 0.013*\"final\" + 0.012*\"need\" + 0.010*\"review\" + 0.009*\"say\" + 0.009*\"premier\" + 0.008*\"law\" + 0.008*\"defend\" + 0.008*\"parliament\"\n",
      "\n",
      "score: 0.019999999552965164\t \n",
      "topic: 0.026*\"elect\" + 0.018*\"say\" + 0.014*\"donald\" + 0.013*\"labor\" + 0.010*\"bank\" + 0.010*\"tasmanian\" + 0.010*\"polit\" + 0.009*\"vote\" + 0.009*\"senat\" + 0.009*\"leader\"\n"
     ]
    }
   ],
   "source": [
    "for index, score in sorted(lda_model[bow_corpus[4310]], key=lambda tup: -1*tup[1]):\n",
    "    print(\"\\nscore: {}\\t \\ntopic: {}\".format(score, lda_model.print_topic(index, 10)))"
   ]
  },
  {
   "cell_type": "markdown",
   "metadata": {},
   "source": [
    "our test document has the highest probability to be topic 0."
   ]
  },
  {
   "cell_type": "markdown",
   "metadata": {},
   "source": [
    "**Performance evaluation by classifying sample document using LDA TF-IDF model**"
   ]
  },
  {
   "cell_type": "code",
   "execution_count": 72,
   "metadata": {},
   "outputs": [
    {
     "name": "stdout",
     "output_type": "stream",
     "text": [
      "\n",
      "score: 0.5392301678657532\t \n",
      "topic: 0.011*\"crash\" + 0.009*\"queensland\" + 0.009*\"podcast\" + 0.008*\"turnbul\" + 0.008*\"donald\" + 0.007*\"flood\" + 0.007*\"road\" + 0.007*\"kill\" + 0.006*\"fatal\" + 0.005*\"truck\"\n",
      "\n",
      "score: 0.300755113363266\t \n",
      "topic: 0.008*\"sport\" + 0.007*\"hobart\" + 0.006*\"marriag\" + 0.006*\"decemb\" + 0.005*\"father\" + 0.004*\"bash\" + 0.004*\"condit\" + 0.004*\"polic\" + 0.004*\"islam\" + 0.004*\"rememb\"\n",
      "\n",
      "score: 0.020003454759716988\t \n",
      "topic: 0.010*\"govern\" + 0.010*\"rural\" + 0.008*\"market\" + 0.006*\"health\" + 0.006*\"fund\" + 0.006*\"nation\" + 0.006*\"news\" + 0.005*\"budget\" + 0.005*\"council\" + 0.005*\"share\"\n",
      "\n",
      "score: 0.020002439618110657\t \n",
      "topic: 0.023*\"countri\" + 0.021*\"hour\" + 0.006*\"friday\" + 0.006*\"ash\" + 0.006*\"domest\" + 0.005*\"violenc\" + 0.005*\"coal\" + 0.003*\"biki\" + 0.003*\"grand\" + 0.003*\"kimberley\"\n",
      "\n",
      "score: 0.020002136006951332\t \n",
      "topic: 0.009*\"live\" + 0.006*\"cattl\" + 0.006*\"malcolm\" + 0.005*\"august\" + 0.004*\"updat\" + 0.004*\"know\" + 0.004*\"export\" + 0.004*\"spring\" + 0.004*\"care\" + 0.004*\"donat\"\n",
      "\n",
      "score: 0.020001910626888275\t \n",
      "topic: 0.007*\"weather\" + 0.007*\"royal\" + 0.006*\"commiss\" + 0.006*\"novemb\" + 0.006*\"climat\" + 0.006*\"rugbi\" + 0.006*\"australia\" + 0.006*\"world\" + 0.005*\"peter\" + 0.005*\"leagu\"\n",
      "\n",
      "score: 0.020001903176307678\t \n",
      "topic: 0.009*\"search\" + 0.009*\"miss\" + 0.008*\"grandstand\" + 0.007*\"abbott\" + 0.007*\"woman\" + 0.007*\"assault\" + 0.007*\"polic\" + 0.006*\"girl\" + 0.006*\"sexual\" + 0.006*\"charg\"\n",
      "\n",
      "score: 0.02000119723379612\t \n",
      "topic: 0.011*\"drum\" + 0.010*\"interview\" + 0.007*\"plead\" + 0.006*\"michael\" + 0.006*\"asylum\" + 0.006*\"dairi\" + 0.005*\"june\" + 0.005*\"seeker\" + 0.005*\"guilti\" + 0.005*\"scott\"\n",
      "\n",
      "score: 0.02000102400779724\t \n",
      "topic: 0.009*\"polic\" + 0.008*\"charg\" + 0.007*\"arrest\" + 0.007*\"drug\" + 0.006*\"court\" + 0.006*\"murder\" + 0.006*\"jail\" + 0.006*\"juli\" + 0.005*\"monday\" + 0.005*\"sentenc\"\n",
      "\n",
      "score: 0.02000061608850956\t \n",
      "topic: 0.021*\"trump\" + 0.007*\"octob\" + 0.007*\"septemb\" + 0.006*\"thursday\" + 0.006*\"syria\" + 0.005*\"smith\" + 0.005*\"wrap\" + 0.005*\"david\" + 0.005*\"australia\" + 0.004*\"indonesia\"\n"
     ]
    }
   ],
   "source": [
    "for index, score in sorted(lda_model_tfidf[bow_corpus[4310]], key=lambda tup: -1*tup[1]):\n",
    "    print(\"\\nscore: {}\\t \\ntopic: {}\".format(score, lda_model_tfidf.print_topic(index, 10)))"
   ]
  },
  {
   "cell_type": "markdown",
   "metadata": {},
   "source": [
    "our test document has the highest probability to be topic 0"
   ]
  },
  {
   "cell_type": "markdown",
   "metadata": {},
   "source": [
    "**Testing model on unseen document**"
   ]
  },
  {
   "cell_type": "code",
   "execution_count": 75,
   "metadata": {},
   "outputs": [
    {
     "name": "stdout",
     "output_type": "stream",
     "text": [
      "score: 0.6999759674072266\t topic: 0.024*\"south\" + 0.019*\"australia\" + 0.019*\"test\" + 0.016*\"tasmania\" + 0.014*\"chang\"\n",
      "score: 0.033357299864292145\t topic: 0.031*\"trump\" + 0.018*\"world\" + 0.018*\"open\" + 0.017*\"market\" + 0.016*\"nation\"\n",
      "score: 0.03333336487412453\t topic: 0.026*\"elect\" + 0.018*\"say\" + 0.014*\"donald\" + 0.013*\"labor\" + 0.010*\"bank\"\n",
      "score: 0.03333333507180214\t topic: 0.014*\"brisban\" + 0.014*\"council\" + 0.013*\"final\" + 0.012*\"need\" + 0.010*\"review\"\n",
      "score: 0.03333333507180214\t topic: 0.032*\"govern\" + 0.020*\"school\" + 0.020*\"coast\" + 0.014*\"high\" + 0.013*\"north\"\n",
      "score: 0.03333333507180214\t topic: 0.030*\"sydney\" + 0.023*\"polic\" + 0.022*\"adelaid\" + 0.016*\"interview\" + 0.015*\"shoot\"\n",
      "score: 0.03333333507180214\t topic: 0.021*\"queensland\" + 0.013*\"live\" + 0.013*\"fund\" + 0.013*\"health\" + 0.012*\"rural\"\n",
      "score: 0.03333333507180214\t topic: 0.023*\"kill\" + 0.019*\"countri\" + 0.017*\"china\" + 0.016*\"hour\" + 0.012*\"road\"\n",
      "score: 0.03333333507180214\t topic: 0.017*\"crash\" + 0.016*\"miss\" + 0.013*\"peopl\" + 0.013*\"island\" + 0.011*\"driver\"\n",
      "score: 0.03333333507180214\t topic: 0.028*\"court\" + 0.021*\"murder\" + 0.021*\"charg\" + 0.018*\"face\" + 0.017*\"polic\"\n"
     ]
    }
   ],
   "source": [
    "unseen_doc = 'hello world'\n",
    "bow_vector = dictionary.doc2bow(preprocess(unseen_doc))\n",
    "\n",
    "for index, score in sorted(lda_model[bow_vector], key=lambda tup: -1*tup[1]):\n",
    "    print(\"score: {}\\t topic: {}\".format(score, lda_model.print_topic(index, 5)))"
   ]
  },
  {
   "cell_type": "code",
   "execution_count": null,
   "metadata": {},
   "outputs": [],
   "source": []
  }
 ],
 "metadata": {
  "kernelspec": {
   "display_name": "Python 3",
   "language": "python",
   "name": "python3"
  },
  "language_info": {
   "codemirror_mode": {
    "name": "ipython",
    "version": 3
   },
   "file_extension": ".py",
   "mimetype": "text/x-python",
   "name": "python",
   "nbconvert_exporter": "python",
   "pygments_lexer": "ipython3",
   "version": "3.6.5"
  }
 },
 "nbformat": 4,
 "nbformat_minor": 2
}
